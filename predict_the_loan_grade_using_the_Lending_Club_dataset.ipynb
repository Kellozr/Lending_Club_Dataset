{
  "nbformat": 4,
  "nbformat_minor": 0,
  "metadata": {
    "colab": {
      "provenance": [],
      "authorship_tag": "ABX9TyOMeULySRPYrerOPRcj1CsS",
      "include_colab_link": true
    },
    "kernelspec": {
      "name": "python3",
      "display_name": "Python 3"
    },
    "language_info": {
      "name": "python"
    }
  },
  "cells": [
    {
      "cell_type": "markdown",
      "metadata": {
        "id": "view-in-github",
        "colab_type": "text"
      },
      "source": [
        "<a href=\"https://colab.research.google.com/github/Kellozr/Lending_Club_Dataset/blob/main/predict_the_loan_grade_using_the_Lending_Club_dataset.ipynb\" target=\"_parent\"><img src=\"https://colab.research.google.com/assets/colab-badge.svg\" alt=\"Open In Colab\"/></a>"
      ]
    },
    {
      "cell_type": "markdown",
      "source": [
        " Common Setup for All Models (run once before the models):"
      ],
      "metadata": {
        "id": "DUJpe4qzi96p"
      }
    },
    {
      "cell_type": "code",
      "execution_count": null,
      "metadata": {
        "id": "l3Ybg91xiq4g"
      },
      "outputs": [],
      "source": [
        "import pandas as pd\n",
        "import numpy as np\n",
        "import time\n",
        "from sklearn.model_selection import train_test_split\n",
        "from sklearn.preprocessing import LabelEncoder, StandardScaler\n",
        "from sklearn.impute import SimpleImputer\n",
        "from sklearn.metrics import accuracy_score, classification_report\n",
        "import warnings\n",
        "warnings.filterwarnings('ignore')\n",
        "\n",
        "# Load dataset\n",
        "df = pd.read_csv(\"/content/loan.csv\")\n",
        "\n",
        "# Safe pre-loan features\n",
        "safe_features = [\n",
        "    'loan_amnt', 'term',  'emp_length', 'home_ownership',\n",
        "    'annual_inc', 'verification_status', 'purpose', 'dti', 'open_acc', 'revol_util'\n",
        "]\n",
        "\n",
        "df = df.dropna(subset=['grade'])\n",
        "df = df[safe_features + ['grade']]\n",
        "\n",
        "# Numerical and categorical columns\n",
        "num_cols = df.select_dtypes(include=['float64', 'int64']).columns\n",
        "cat_cols = df.select_dtypes(include=['object']).columns\n",
        "\n",
        "# Impute and encode\n",
        "df[num_cols] = SimpleImputer(strategy='median').fit_transform(df[num_cols])\n",
        "for col in cat_cols:\n",
        "    df[col] = df[col].fillna('Unknown')\n",
        "    df[col] = LabelEncoder().fit_transform(df[col])\n",
        "\n",
        "# Encode target\n",
        "df['grade'] = LabelEncoder().fit_transform(df['grade'])\n",
        "\n",
        "# Split\n",
        "X = df.drop('grade', axis=1)\n",
        "y = df['grade']\n",
        "X_scaled = StandardScaler().fit_transform(X)\n",
        "X_train, X_test, y_train, y_test = train_test_split(X_scaled, y, test_size=0.2, random_state=42)\n"
      ]
    },
    {
      "cell_type": "markdown",
      "source": [
        "Logistic Regression"
      ],
      "metadata": {
        "id": "RRRM5l3VjicM"
      }
    },
    {
      "cell_type": "code",
      "source": [
        "from sklearn.linear_model import LogisticRegression\n",
        "\n",
        "model = LogisticRegression(max_iter=1000)\n",
        "model.fit(X_train, y_train)\n",
        "\n",
        "start = time.time()\n",
        "y_pred_test = model.predict(X_test)\n",
        "end = time.time()\n",
        "\n",
        "print(\"📌 Logistic Regression\")\n",
        "print(\"Train Accuracy:\", accuracy_score(y_train, model.predict(X_train)))\n",
        "print(\"Test Accuracy :\", accuracy_score(y_test, y_pred_test))\n",
        "print(\"Inference Time (s):\", round(end - start, 4))\n",
        "print(\"\\nClassification Report:\\n\", classification_report(y_test, y_pred_test))\n"
      ],
      "metadata": {
        "id": "ygAVhJk2jsOD",
        "outputId": "92d84ca7-2ba1-43ee-f15b-e58a00f762de",
        "colab": {
          "base_uri": "https://localhost:8080/"
        }
      },
      "execution_count": null,
      "outputs": [
        {
          "output_type": "stream",
          "name": "stdout",
          "text": [
            "📌 Logistic Regression\n",
            "Train Accuracy: 0.41146131805157593\n",
            "Test Accuracy : 0.41987914148780997\n",
            "Inference Time (s): 0.0011\n",
            "\n",
            "Classification Report:\n",
            "               precision    recall  f1-score   support\n",
            "\n",
            "           0       0.47      0.77      0.59      1409\n",
            "           1       0.40      0.31      0.35      1400\n",
            "           2       0.35      0.41      0.38      1182\n",
            "           3       0.26      0.03      0.05       594\n",
            "           4       0.31      0.02      0.04       211\n",
            "           5       0.00      0.00      0.00         2\n",
            "           6       0.00      0.00      0.00         1\n",
            "\n",
            "    accuracy                           0.42      4799\n",
            "   macro avg       0.26      0.22      0.20      4799\n",
            "weighted avg       0.39      0.42      0.37      4799\n",
            "\n"
          ]
        }
      ]
    },
    {
      "cell_type": "code",
      "source": [
        "from sklearn.svm import SVC\n",
        "\n",
        "model = SVC()\n",
        "model.fit(X_train, y_train)\n",
        "\n",
        "start = time.time()\n",
        "y_pred_test = model.predict(X_test)\n",
        "end = time.time()\n",
        "\n",
        "print(\"📌 SVM\")\n",
        "print(\"Train Accuracy:\", accuracy_score(y_train, model.predict(X_train)))\n",
        "print(\"Test Accuracy :\", accuracy_score(y_test, y_pred_test))\n",
        "print(\"Inference Time (s):\", round(end - start, 4))\n",
        "print(\"\\nClassification Report:\\n\", classification_report(y_test, y_pred_test))\n"
      ],
      "metadata": {
        "colab": {
          "base_uri": "https://localhost:8080/"
        },
        "id": "94czzPzWk8i3",
        "outputId": "a334fa70-bc46-4be4-eb41-65782d5ad6d7"
      },
      "execution_count": null,
      "outputs": [
        {
          "output_type": "stream",
          "name": "stdout",
          "text": [
            "📌 SVM\n",
            "Train Accuracy: 0.4381349309716072\n",
            "Test Accuracy : 0.4200875182329652\n",
            "Inference Time (s): 4.7388\n",
            "\n",
            "Classification Report:\n",
            "               precision    recall  f1-score   support\n",
            "\n",
            "           0       0.47      0.78      0.59      1409\n",
            "           1       0.38      0.34      0.36      1400\n",
            "           2       0.35      0.37      0.36      1182\n",
            "           3       0.40      0.03      0.06       594\n",
            "           4       0.50      0.00      0.01       211\n",
            "           5       0.00      0.00      0.00         2\n",
            "           6       0.00      0.00      0.00         1\n",
            "\n",
            "    accuracy                           0.42      4799\n",
            "   macro avg       0.30      0.22      0.20      4799\n",
            "weighted avg       0.41      0.42      0.37      4799\n",
            "\n"
          ]
        }
      ]
    },
    {
      "cell_type": "code",
      "source": [
        "from sklearn.ensemble import RandomForestClassifier\n",
        "\n",
        "model = RandomForestClassifier(n_estimators=100)\n",
        "model.fit(X_train, y_train)\n",
        "\n",
        "start = time.time()\n",
        "y_pred_test = model.predict(X_test)\n",
        "end = time.time()\n",
        "\n",
        "print(\"📌 Random Forest\")\n",
        "print(\"Train Accuracy:\", accuracy_score(y_train, model.predict(X_train)))\n",
        "print(\"Test Accuracy :\", accuracy_score(y_test, y_pred_test))\n",
        "print(\"Inference Time (s):\", round(end - start, 4))\n",
        "print(\"\\nClassification Report:\\n\", classification_report(y_test, y_pred_test))\n"
      ],
      "metadata": {
        "id": "elcqYIsDlJPY",
        "colab": {
          "base_uri": "https://localhost:8080/"
        },
        "outputId": "6793c201-7394-4ba8-e07c-fec512fa4747"
      },
      "execution_count": null,
      "outputs": [
        {
          "output_type": "stream",
          "name": "stdout",
          "text": [
            "📌 Random Forest\n",
            "Train Accuracy: 1.0\n",
            "Test Accuracy : 0.40800166701396123\n",
            "Inference Time (s): 0.1326\n",
            "\n",
            "Classification Report:\n",
            "               precision    recall  f1-score   support\n",
            "\n",
            "           0       0.50      0.66      0.57      1409\n",
            "           1       0.36      0.39      0.38      1400\n",
            "           2       0.35      0.33      0.34      1182\n",
            "           3       0.28      0.13      0.18       594\n",
            "           4       0.38      0.09      0.15       211\n",
            "           5       0.00      0.00      0.00         2\n",
            "           6       0.00      0.00      0.00         1\n",
            "\n",
            "    accuracy                           0.41      4799\n",
            "   macro avg       0.27      0.23      0.23      4799\n",
            "weighted avg       0.39      0.41      0.39      4799\n",
            "\n"
          ]
        }
      ]
    },
    {
      "cell_type": "code",
      "source": [
        "from sklearn.neighbors import KNeighborsClassifier\n",
        "\n",
        "model = KNeighborsClassifier()\n",
        "model.fit(X_train, y_train)\n",
        "\n",
        "start = time.time()\n",
        "y_pred_test = model.predict(X_test)\n",
        "end = time.time()\n",
        "\n",
        "print(\"📌 KNN\")\n",
        "print(\"Train Accuracy:\", accuracy_score(y_train, model.predict(X_train)))\n",
        "print(\"Test Accuracy :\", accuracy_score(y_test, y_pred_test))\n",
        "print(\"Inference Time (s):\", round(end - start, 4))\n",
        "print(\"\\nClassification Report:\\n\", classification_report(y_test, y_pred_test))\n"
      ],
      "metadata": {
        "colab": {
          "base_uri": "https://localhost:8080/"
        },
        "id": "MDJSKF2NldYE",
        "outputId": "c3f69952-4061-4979-bd0c-794c0a356aec"
      },
      "execution_count": null,
      "outputs": [
        {
          "output_type": "stream",
          "name": "stdout",
          "text": [
            "📌 KNN\n",
            "Train Accuracy: 0.551133107580099\n",
            "Test Accuracy : 0.36757657845384456\n",
            "Inference Time (s): 1.2665\n",
            "\n",
            "Classification Report:\n",
            "               precision    recall  f1-score   support\n",
            "\n",
            "           0       0.44      0.62      0.51      1409\n",
            "           1       0.34      0.37      0.35      1400\n",
            "           2       0.32      0.26      0.29      1182\n",
            "           3       0.23      0.11      0.15       594\n",
            "           4       0.11      0.04      0.06       211\n",
            "           5       0.00      0.00      0.00         2\n",
            "           6       0.00      0.00      0.00         1\n",
            "\n",
            "    accuracy                           0.37      4799\n",
            "   macro avg       0.21      0.20      0.19      4799\n",
            "weighted avg       0.34      0.37      0.35      4799\n",
            "\n"
          ]
        }
      ]
    },
    {
      "cell_type": "code",
      "source": [
        "from xgboost import XGBClassifier\n",
        "\n",
        "model = XGBClassifier(use_label_encoder=False, eval_metric='mlogloss')\n",
        "model.fit(X_train, y_train)\n",
        "\n",
        "start = time.time()\n",
        "y_pred_test = model.predict(X_test)\n",
        "end = time.time()\n",
        "\n",
        "print(\"📌 XGBoost\")\n",
        "print(\"Train Accuracy:\", accuracy_score(y_train, model.predict(X_train)))\n",
        "print(\"Test Accuracy :\", accuracy_score(y_test, y_pred_test))\n",
        "print(\"Inference Time (s):\", round(end - start, 4))\n",
        "print(\"\\nClassification Report:\\n\", classification_report(y_test, y_pred_test))\n"
      ],
      "metadata": {
        "colab": {
          "base_uri": "https://localhost:8080/"
        },
        "id": "AIHdIKSFlv4_",
        "outputId": "23d096eb-7cc7-441d-9b81-3887dd71b672"
      },
      "execution_count": null,
      "outputs": [
        {
          "output_type": "stream",
          "name": "stdout",
          "text": [
            "📌 XGBoost\n",
            "Train Accuracy: 0.7400885647303985\n",
            "Test Accuracy : 0.40862679724942697\n",
            "Inference Time (s): 0.058\n",
            "\n",
            "Classification Report:\n",
            "               precision    recall  f1-score   support\n",
            "\n",
            "           0       0.52      0.65      0.58      1409\n",
            "           1       0.37      0.37      0.37      1400\n",
            "           2       0.34      0.35      0.34      1182\n",
            "           3       0.26      0.14      0.19       594\n",
            "           4       0.31      0.10      0.15       211\n",
            "           5       0.00      0.00      0.00         2\n",
            "           6       0.00      0.00      0.00         1\n",
            "\n",
            "    accuracy                           0.41      4799\n",
            "   macro avg       0.26      0.23      0.23      4799\n",
            "weighted avg       0.39      0.41      0.39      4799\n",
            "\n"
          ]
        }
      ]
    },
    {
      "cell_type": "markdown",
      "source": [
        "second attempt"
      ],
      "metadata": {
        "id": "PvimMyJwpPZ5"
      }
    },
    {
      "cell_type": "code",
      "source": [
        "import pandas as pd\n",
        "import numpy as np\n",
        "import time\n",
        "from sklearn.model_selection import train_test_split\n",
        "from sklearn.preprocessing import LabelEncoder, StandardScaler\n",
        "from sklearn.impute import SimpleImputer\n",
        "from sklearn.metrics import accuracy_score, classification_report\n",
        "import warnings\n",
        "warnings.filterwarnings('ignore')\n",
        "\n",
        "# Load dataset\n",
        "df = pd.read_csv(\"/content/loan.csv\")\n",
        "\n",
        "# Safe pre-loan features\n",
        "safe_features = [\n",
        "    'loan_amnt', 'term',  'emp_length','int_rate', 'home_ownership',\n",
        "    'annual_inc', 'verification_status', 'purpose', 'dti', 'open_acc', 'revol_util'\n",
        "]\n",
        "\n",
        "df = df.dropna(subset=['grade'])\n",
        "df = df[safe_features + ['grade']]\n",
        "\n",
        "# Numerical and categorical columns\n",
        "num_cols = df.select_dtypes(include=['float64', 'int64']).columns\n",
        "cat_cols = df.select_dtypes(include=['object']).columns\n",
        "\n",
        "# Impute and encode\n",
        "df[num_cols] = SimpleImputer(strategy='median').fit_transform(df[num_cols])\n",
        "for col in cat_cols:\n",
        "    df[col] = df[col].fillna('Unknown')\n",
        "    df[col] = LabelEncoder().fit_transform(df[col])\n",
        "\n",
        "# Encode target\n",
        "df['grade'] = LabelEncoder().fit_transform(df['grade'])\n",
        "\n",
        "# Split\n",
        "X = df.drop('grade', axis=1)\n",
        "y = df['grade']\n",
        "X_scaled = StandardScaler().fit_transform(X)\n",
        "X_train, X_test, y_train, y_test = train_test_split(X_scaled, y, test_size=0.2, random_state=42)\n"
      ],
      "metadata": {
        "id": "-7KY4qsLpRsM"
      },
      "execution_count": null,
      "outputs": []
    },
    {
      "cell_type": "code",
      "source": [
        "from sklearn.linear_model import LogisticRegression\n",
        "\n",
        "model = LogisticRegression(max_iter=1000)\n",
        "model.fit(X_train, y_train)\n",
        "\n",
        "start = time.time()\n",
        "y_pred_test = model.predict(X_test)\n",
        "end = time.time()\n",
        "\n",
        "print(\"📌 Logistic Regression\")\n",
        "print(\"Train Accuracy:\", accuracy_score(y_train, model.predict(X_train)))\n",
        "print(\"Test Accuracy :\", accuracy_score(y_test, y_pred_test))\n",
        "print(\"Inference Time (s):\", round(end - start, 4))\n",
        "print(\"\\nClassification Report:\\n\", classification_report(y_test, y_pred_test))\n"
      ],
      "metadata": {
        "id": "nVWDTCPEpq4C",
        "outputId": "177ffe77-73b8-4956-b898-c682d65b79a3",
        "colab": {
          "base_uri": "https://localhost:8080/"
        }
      },
      "execution_count": null,
      "outputs": [
        {
          "output_type": "stream",
          "name": "stdout",
          "text": [
            "📌 Logistic Regression\n",
            "Train Accuracy: 0.9970476381104884\n",
            "Test Accuracy : 0.9968978284799359\n",
            "Inference Time (s): 0.0021\n",
            "\n",
            "Classification Report:\n",
            "               precision    recall  f1-score   support\n",
            "\n",
            "           0       1.00      1.00      1.00      2928\n",
            "           1       1.00      1.00      1.00      2898\n",
            "           2       1.00      1.00      1.00      2391\n",
            "           3       0.99      0.99      0.99      1291\n",
            "           4       0.96      0.97      0.97       478\n",
            "           5       0.00      0.00      0.00         4\n",
            "           6       0.00      0.00      0.00         3\n",
            "\n",
            "    accuracy                           1.00      9993\n",
            "   macro avg       0.71      0.71      0.71      9993\n",
            "weighted avg       1.00      1.00      1.00      9993\n",
            "\n"
          ]
        }
      ]
    },
    {
      "cell_type": "code",
      "source": [
        "from sklearn.svm import SVC\n",
        "\n",
        "model = SVC()\n",
        "model.fit(X_train, y_train)\n",
        "\n",
        "start = time.time()\n",
        "y_pred_test = model.predict(X_test)\n",
        "end = time.time()\n",
        "\n",
        "print(\"📌 SVM\")\n",
        "print(\"Train Accuracy:\", accuracy_score(y_train, model.predict(X_train)))\n",
        "print(\"Test Accuracy :\", accuracy_score(y_test, y_pred_test))\n",
        "print(\"Inference Time (s):\", round(end - start, 4))\n",
        "print(\"\\nClassification Report:\\n\", classification_report(y_test, y_pred_test))\n"
      ],
      "metadata": {
        "colab": {
          "base_uri": "https://localhost:8080/"
        },
        "id": "hgc56nAZqpAR",
        "outputId": "1dec6fdb-a2dc-4ea4-853e-00ddbe87375b"
      },
      "execution_count": null,
      "outputs": [
        {
          "output_type": "stream",
          "name": "stdout",
          "text": [
            "📌 SVM\n",
            "Train Accuracy: 0.9957966373098479\n",
            "Test Accuracy : 0.9905934153907735\n",
            "Inference Time (s): 7.9058\n",
            "\n",
            "Classification Report:\n",
            "               precision    recall  f1-score   support\n",
            "\n",
            "           0       1.00      1.00      1.00      2928\n",
            "           1       0.99      0.99      0.99      2898\n",
            "           2       0.99      0.99      0.99      2391\n",
            "           3       0.99      0.98      0.98      1291\n",
            "           4       0.95      0.96      0.96       478\n",
            "           5       0.00      0.00      0.00         4\n",
            "           6       0.00      0.00      0.00         3\n",
            "\n",
            "    accuracy                           0.99      9993\n",
            "   macro avg       0.70      0.70      0.70      9993\n",
            "weighted avg       0.99      0.99      0.99      9993\n",
            "\n"
          ]
        }
      ]
    },
    {
      "cell_type": "code",
      "source": [
        "from sklearn.ensemble import RandomForestClassifier\n",
        "\n",
        "model = RandomForestClassifier(n_estimators=100)\n",
        "model.fit(X_train, y_train)\n",
        "\n",
        "start = time.time()\n",
        "y_pred_test = model.predict(X_test)\n",
        "end = time.time()\n",
        "\n",
        "print(\"📌 Random Forest\")\n",
        "print(\"Train Accuracy:\", accuracy_score(y_train, model.predict(X_train)))\n",
        "print(\"Test Accuracy :\", accuracy_score(y_test, y_pred_test))\n",
        "print(\"Inference Time (s):\", round(end - start, 4))\n",
        "print(\"\\nClassification Report:\\n\", classification_report(y_test, y_pred_test))\n"
      ],
      "metadata": {
        "colab": {
          "base_uri": "https://localhost:8080/"
        },
        "id": "nL6j8R7MqtzD",
        "outputId": "4d297789-1fb4-4d51-d3da-6c15247aeff3"
      },
      "execution_count": null,
      "outputs": [
        {
          "output_type": "stream",
          "name": "stdout",
          "text": [
            "📌 Random Forest\n",
            "Train Accuracy: 1.0\n",
            "Test Accuracy : 0.9991994396077254\n",
            "Inference Time (s): 0.109\n",
            "\n",
            "Classification Report:\n",
            "               precision    recall  f1-score   support\n",
            "\n",
            "           0       1.00      1.00      1.00      2928\n",
            "           1       1.00      1.00      1.00      2898\n",
            "           2       1.00      1.00      1.00      2391\n",
            "           3       1.00      1.00      1.00      1291\n",
            "           4       0.99      1.00      0.99       478\n",
            "           5       0.00      0.00      0.00         4\n",
            "           6       0.00      0.00      0.00         3\n",
            "\n",
            "    accuracy                           1.00      9993\n",
            "   macro avg       0.71      0.71      0.71      9993\n",
            "weighted avg       1.00      1.00      1.00      9993\n",
            "\n"
          ]
        }
      ]
    },
    {
      "cell_type": "code",
      "source": [
        "from sklearn.neighbors import KNeighborsClassifier\n",
        "\n",
        "model = KNeighborsClassifier()\n",
        "model.fit(X_train, y_train)\n",
        "\n",
        "start = time.time()\n",
        "y_pred_test = model.predict(X_test)\n",
        "end = time.time()\n",
        "\n",
        "print(\"📌 KNN\")\n",
        "print(\"Train Accuracy:\", accuracy_score(y_train, model.predict(X_train)))\n",
        "print(\"Test Accuracy :\", accuracy_score(y_test, y_pred_test))\n",
        "print(\"Inference Time (s):\", round(end - start, 4))\n",
        "print(\"\\nClassification Report:\\n\", classification_report(y_test, y_pred_test))\n"
      ],
      "metadata": {
        "colab": {
          "base_uri": "https://localhost:8080/"
        },
        "id": "AGgYsugcsGXf",
        "outputId": "b68189f0-20b7-41fa-c585-615a9f76a3f8"
      },
      "execution_count": 7,
      "outputs": [
        {
          "output_type": "stream",
          "name": "stdout",
          "text": [
            "📌 KNN\n",
            "Train Accuracy: 0.893064451561249\n",
            "Test Accuracy : 0.816871810267187\n",
            "Inference Time (s): 10.0762\n",
            "\n",
            "Classification Report:\n",
            "               precision    recall  f1-score   support\n",
            "\n",
            "           0       0.89      0.91      0.90      2928\n",
            "           1       0.76      0.80      0.78      2898\n",
            "           2       0.77      0.78      0.77      2391\n",
            "           3       0.83      0.75      0.79      1291\n",
            "           4       0.94      0.74      0.83       478\n",
            "           5       0.00      0.00      0.00         4\n",
            "           6       0.00      0.00      0.00         3\n",
            "\n",
            "    accuracy                           0.82      9993\n",
            "   macro avg       0.60      0.57      0.58      9993\n",
            "weighted avg       0.82      0.82      0.82      9993\n",
            "\n"
          ]
        }
      ]
    },
    {
      "cell_type": "code",
      "source": [
        "from xgboost import XGBClassifier\n",
        "\n",
        "model = XGBClassifier(use_label_encoder=False, eval_metric='mlogloss')\n",
        "model.fit(X_train, y_train)\n",
        "\n",
        "start = time.time()\n",
        "y_pred_test = model.predict(X_test)\n",
        "end = time.time()\n",
        "\n",
        "print(\"📌 XGBoost\")\n",
        "print(\"Train Accuracy:\", accuracy_score(y_train, model.predict(X_train)))\n",
        "print(\"Test Accuracy :\", accuracy_score(y_test, y_pred_test))\n",
        "print(\"Inference Time (s):\", round(end - start, 4))\n",
        "print(\"\\nClassification Report:\\n\", classification_report(y_test, y_pred_test))\n"
      ],
      "metadata": {
        "colab": {
          "base_uri": "https://localhost:8080/"
        },
        "id": "AiNZl201sMxL",
        "outputId": "d124da6b-23fa-467c-f8d7-35d330e69861"
      },
      "execution_count": 8,
      "outputs": [
        {
          "output_type": "stream",
          "name": "stdout",
          "text": [
            "📌 XGBoost\n",
            "Train Accuracy: 1.0\n",
            "Test Accuracy : 0.9998999299509657\n",
            "Inference Time (s): 0.0285\n",
            "\n",
            "Classification Report:\n",
            "               precision    recall  f1-score   support\n",
            "\n",
            "           0       1.00      1.00      1.00      2928\n",
            "           1       1.00      1.00      1.00      2898\n",
            "           2       1.00      1.00      1.00      2391\n",
            "           3       1.00      1.00      1.00      1291\n",
            "           4       1.00      1.00      1.00       478\n",
            "           5       1.00      1.00      1.00         4\n",
            "           6       1.00      1.00      1.00         3\n",
            "\n",
            "    accuracy                           1.00      9993\n",
            "   macro avg       1.00      1.00      1.00      9993\n",
            "weighted avg       1.00      1.00      1.00      9993\n",
            "\n"
          ]
        }
      ]
    },
    {
      "cell_type": "markdown",
      "source": [
        "Observation:\n",
        "After removing int_rate, model performance dropped drastically.\n",
        "\n",
        "✅ int_rate was highly predictive of loan grade (which is expected—loan grades are often assigned based on risk, and risk determines interest rate).\n",
        "\n",
        "❌ Without it, models struggle, because other features like loan_amnt, purpose, or emp_length are not strong enough predictors alone.\n",
        "\n"
      ],
      "metadata": {
        "id": "MHc2bAa_sWoi"
      }
    },
    {
      "cell_type": "markdown",
      "source": [
        "Why This Happens:\n",
        "loan_grade is inherently tied to int_rate—in real-world lending:\n",
        "\n",
        "Grade is not a raw label, it's assigned based on calculated risk (credit score, income, etc.), and interest rate is a reflection of that grade.\n",
        "\n",
        "So trying to predict grade without the int_rate is like trying to guess someone's rank without knowing their marks."
      ],
      "metadata": {
        "id": "vOOSekNYsXsu"
      }
    }
  ]
}